{
 "cells": [
  {
   "cell_type": "code",
   "execution_count": 185,
   "metadata": {},
   "outputs": [],
   "source": [
    "from qiskit import QuantumCircuit, execute, Aer\n",
    "\n",
    "from pairwise_tomography.pairwise_state_tomography_circuits import pairwise_state_tomography_circuits\n",
    "from pairwise_tomography.pairwise_fitter import PairwiseStateTomographyFitter\n",
    "from pairwise_tomography.utils import concurrence\n",
    "from pairwise_tomography.visualization import draw_entanglement_graph\n",
    "\n",
    "from math import pi"
   ]
  },
  {
   "cell_type": "code",
   "execution_count": null,
   "metadata": {},
   "outputs": [],
   "source": []
  },
  {
   "cell_type": "code",
   "execution_count": 313,
   "metadata": {},
   "outputs": [],
   "source": [
    "class ParameterGraph ():\n",
    "    \n",
    "    def __init__ (self,num_qubits):\n",
    "        \n",
    "        self.num_qubits = num_qubits\n",
    "        \n",
    "        '''self.coupling_map = []\n",
    "        for j in range(self.num_qubits-1):\n",
    "            for k in range(j+1,self.num_qubits):\n",
    "                if ([j,k] in coupling_map) or ([j,k] in coupling_map) or (not coupling_map):\n",
    "                    self.coupling_map.append([j,k])'''\n",
    "                    \n",
    "        self.qc = QuantumCircuit(self.num_qubits)\n",
    "\n",
    "        \n",
    "    def transfer(self,params,control_params=None):\n",
    "        \n",
    "        def get_p (circuit):\n",
    "            shots = 8192\n",
    "            counts = execute(self.qc+test_meas,Aer.get_backend('qasm_simulator'),shots=shots).result().get_counts()\n",
    "            if '0' in counts:\n",
    "                p = counts['0']/shots\n",
    "            else:\n",
    "                p = 0\n",
    "            return p\n",
    "        \n",
    "        def basis_change(basis,qubit,dagger=False):\n",
    "            basis_change = QuantumCircuit(self.num_qubits)\n",
    "            if basis=='X':\n",
    "                basis_change.h(0)\n",
    "            elif basis=='Y':\n",
    "                if dagger:\n",
    "                    basis_change.rx(pi/2,0)\n",
    "                else:\n",
    "                    basis_change.rx(-pi/2,0)\n",
    "            return basis_change\n",
    "        \n",
    "        epsilon = 1/16\n",
    "\n",
    "        source_pauli,sink_pauli,fraction,qubit = params\n",
    "        \n",
    "        test_meas = QuantumCircuit(self.num_qubits,1)\n",
    "        test_meas += basis_change(sink_pauli,qubit)\n",
    "        test_meas.measure(qubit,0)\n",
    "        \n",
    "        p_init = get_p(self.qc+test_meas)\n",
    "        \n",
    "        if control_params:\n",
    "            self.qc += basis_change(control_params[0],control_params[1],dagger=True)\n",
    "        \n",
    "        paulis = [source_pauli,sink_pauli]\n",
    "        if 'X' in paulis:\n",
    "            if 'Y' in paulis:\n",
    "                if control_params:\n",
    "                    self.qc.crz(pi*epsilon,control_params[1],qubit)\n",
    "                else:\n",
    "                    self.qc.rz(pi*epsilon,qubit)\n",
    "            elif 'Z' in paulis:\n",
    "                if control_params:\n",
    "                    self.qc.cry(pi*epsilon,control_params[1],qubit)\n",
    "                else:\n",
    "                    self.qc.ry(pi*epsilon,qubit)\n",
    "        else:\n",
    "            if control_params:\n",
    "                self.qc.mcrx(pi*epsilon,[self.qc.qregs[0][control_params[1]]],self.qc.qregs[0][qubit])\n",
    "            else:\n",
    "                self.qc.rx(pi*epsilon,qubit)\n",
    "                \n",
    "        if control_params:\n",
    "            self.qc += basis_change(control_params[0],control_params[1],dagger=False)\n",
    "        \n",
    "        p_final = get_p(self.qc+test_meas)\n",
    "        \n",
    "        fraction = fraction * (2*(p_final>p_init)-1)\n",
    "        \n",
    "        if control_params:\n",
    "            delta = len(basis_change(control_params[0],control_params[1],dagger=False).data)\n",
    "            self.qc.data[-1-delta][0].params[0] = pi*fraction\n",
    "        else:\n",
    "            self.qc.data[-1][0].params[0] = pi*fraction\n",
    "    \n",
    "    def controlled_transfer (self,params,control_params):\n",
    "        \n",
    "        if control_params[0][0]=='-':\n",
    "            if control_params[0][1] in ['Z','Y']:\n",
    "                self.transfer(['Z','Y',1,control_params[1]])\n",
    "                self.transfer(params,control_params=[control_params[0][1],control_params[1]])\n",
    "                self.transfer(['Z','Y',1,control_params[1]])\n",
    "            else:\n",
    "                self.transfer(['Z','X',1,control_params[1]])\n",
    "                self.transfer(params,control_params=[control_params[0][1],control_params[1]])\n",
    "                self.transfer(['Z','X',1,control_params[1]])  \n",
    "        else:\n",
    "            \n",
    "            self.transfer(params,control_params=[control_params[0][1],control_params[1]])\n",
    "\n",
    "    \n",
    "    def swap (self):\n",
    "        pass\n",
    "        \n",
    "        \n",
    "    def get_entanglement (self):\n",
    "        \n",
    "        pw_tomo_circs = pairwise_state_tomography_circuits(self.qc, self.qc.qregs[0])\n",
    "        \n",
    "        job = execute(pw_tomo_circs, Aer.get_backend('qasm_simulator'), shots=8192)\n",
    "        \n",
    "        fitter = PairwiseStateTomographyFitter(job.result(), pw_tomo_circs, self.qc.qregs[0])\n",
    "        \n",
    "        fit_result = fitter.fit()\n",
    "        \n",
    "        pairwise_entanglement = {key: concurrence(value) for key, value in fit_result.items()}\n",
    "        \n",
    "        return pairwise_entanglement"
   ]
  },
  {
   "cell_type": "code",
   "execution_count": null,
   "metadata": {},
   "outputs": [],
   "source": []
  },
  {
   "cell_type": "code",
   "execution_count": 331,
   "metadata": {},
   "outputs": [],
   "source": [
    "g = ParameterGraph(5)\n",
    "\n",
    "g.transfer(['Z','X',0.5,0])\n",
    "g.controlled_transfer(['Y','Z',0.25,1],['+Z',0])\n",
    "\n",
    "g.transfer(['Z','X',0.25,2])\n",
    "g.controlled_transfer(['Y','Z',0.5,3],['+Z',2])\n",
    "g.controlled_transfer(['Y','Z',0.5,4],['-Z',2])\n",
    "\n",
    "g.controlled_transfer(['Y','Z',0.25,1],['+Z',3])\n",
    "g.controlled_transfer(['Y','Z',0.25,1],['+Z',4])"
   ]
  },
  {
   "cell_type": "code",
   "execution_count": null,
   "metadata": {},
   "outputs": [],
   "source": []
  },
  {
   "cell_type": "code",
   "execution_count": 332,
   "metadata": {},
   "outputs": [
    {
     "data": {
      "image/png": "[encoded data removed]",
      "text/plain": [
       "<Figure size 818.72x325.08 with 1 Axes>"
      ]
     },
     "execution_count": 332,
     "metadata": {},
     "output_type": "execute_result"
    }
   ],
   "source": [
    "g.qc.draw(output='mpl')"
   ]
  },
  {
   "cell_type": "code",
   "execution_count": null,
   "metadata": {},
   "outputs": [],
   "source": []
  },
  {
   "cell_type": "code",
   "execution_count": 333,
   "metadata": {},
   "outputs": [
    {
     "name": "stdout",
     "output_type": "stream",
     "text": [
      "(0, 1) 0.33972532369927855\n",
      "(0, 2) 0.0\n",
      "(0, 3) 0.0\n",
      "(0, 4) 0.0\n",
      "(1, 2) 0.0\n",
      "(1, 3) 0.0\n",
      "(1, 4) 0.2330237391250059\n",
      "(2, 3) 0.31376299171893673\n",
      "(2, 4) 0.31626075313637153\n",
      "(3, 4) 0.0\n"
     ]
    }
   ],
   "source": [
    "pairwise_entanglement = g.get_entanglement()\n",
    "\n",
    "for pair in pairwise_entanglement:\n",
    "    print(pair,pairwise_entanglement[pair])"
   ]
  },
  {
   "cell_type": "code",
   "execution_count": null,
   "metadata": {},
   "outputs": [],
   "source": []
  },
  {
   "cell_type": "code",
   "execution_count": null,
   "metadata": {},
   "outputs": [],
   "source": []
  }
 ],
 "metadata": {
  "kernelspec": {
   "display_name": "Python 3",
   "language": "python",
   "name": "python3"
  },
  "language_info": {
   "codemirror_mode": {
    "name": "ipython",
    "version": 3
   },
   "file_extension": ".py",
   "mimetype": "text/x-python",
   "name": "python",
   "nbconvert_exporter": "python",
   "pygments_lexer": "ipython3",
   "version": "3.7.0"
  }
 },
 "nbformat": 4,
 "nbformat_minor": 2
}
