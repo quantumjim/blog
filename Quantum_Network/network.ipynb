{
 "cells": [
  {
   "cell_type": "code",
   "execution_count": 1,
   "metadata": {},
   "outputs": [],
   "source": [
    "from parameter_graph import ParameterGraph"
   ]
  },
  {
   "cell_type": "markdown",
   "metadata": {},
   "source": [
    "* We will use `n` qubits to simulate the interactions between `n` entities in a game.\n",
    "* Each entity is described by at most three variables, each of which takes a value from $+1$ to $-1$.\n",
    "* The variables are called `X`, `Y` and `Z`, and must satisfy $X^2 + Y^2 + Z^2 \\leq 1$.\n",
    "* Note that this implies that an extreme value ($+1$ or $-1$) for any variable implies that the others must be $0$.\n",
    "* The value of $X^2 + Y^2 + Z^2$ is determined by how the entities interact, and cannot be directly set to a given value.\n",
    "* A further set of variables will describe relationships between pairs of entiities.\n",
    "* These are called `XX`, `XY`, `XZ`, `YX`, etc.\n",
    "* The `XX` variable takes the value $+1$ when $X=+1$ for both entities, or $X=-1$ for both entities. It takes the value $-1$ when $X=+1$ for one entity and $X=-1$ for the other.\n",
    "* Similarly for the rest.\n",
    "\n",
    "### An example\n",
    "\n",
    "We'll look at an example where the entities are island nations, and we'll have `n=4` of them. The names of the entities are given in the list `labels`."
   ]
  },
  {
   "cell_type": "code",
   "execution_count": 2,
   "metadata": {},
   "outputs": [],
   "source": [
    "labels = ['Altstetten','Brugg','Frick','Rheinfelden']"
   ]
  },
  {
   "cell_type": "markdown",
   "metadata": {},
   "source": [
    "The dictionary `variables` is then used to determine what the `X`, `Y` and `Z` variables are used for. We'll use only two, and have them represent the aggression and competence of the government for each nation.\n",
    "\n",
    "The idea behind this choice is that a government that pursues only war or only peace will sometimes be acting in its nation's best interest, and sometimes not. So it cannot be regarded as fully competent or incompetent. A competent government would seek war or peace only when it is in the best interests of the nation, and have no bias towards either. An incompetent government would pursue war and peace randomly, and also have no bias toward either. A government that prefers war would often be incomptent.\n",
    "\n",
    "You might not fully agree with this assessment (I'm not sure I do myself), but it does capture the required relation between the variables."
   ]
  },
  {
   "cell_type": "code",
   "execution_count": 3,
   "metadata": {},
   "outputs": [],
   "source": [
    "variables={}\n",
    "variables['X']  = 'Aggression'\n",
    "variables['Z']  = 'Competence'"
   ]
  },
  {
   "cell_type": "markdown",
   "metadata": {},
   "source": [
    "Given these choice, what does `XX` represent? It is something that will be true about the relationship for two very aggresive nations, as well as two very peaceful ones. And the opposite will be true of the relationship between an aggressive nation and a peaceful one.\n",
    "\n",
    "We will take this to be the amount that the citizens of the nations engage with each other. The citizens of two aggressive nations will fight whenever they see each other. The citizens of two peaceful nations will trade. In both cases there is strong engagement (though it takes different forms)."
   ]
  },
  {
   "cell_type": "code",
   "execution_count": 4,
   "metadata": {},
   "outputs": [],
   "source": [
    "variables['XX'] = 'Engagement between citizens'"
   ]
  },
  {
   "cell_type": "markdown",
   "metadata": {},
   "source": [
    "Now what is true for two nations that are either both competent, or both incompetent? Or, alternatively, what is not true for the relationship between a competent nation and an incompetent one?\n",
    "\n",
    "We'll take this to be the amount that they collaborate on shared goals."
   ]
  },
  {
   "cell_type": "code",
   "execution_count": 5,
   "metadata": {},
   "outputs": [],
   "source": [
    "variables['ZZ'] = 'Collaboration between governments'"
   ]
  },
  {
   "cell_type": "markdown",
   "metadata": {},
   "source": [
    "Now for the variables that are not symmetric. These desribe a quality of the relationship between given the competence of one nation and the agression of the other.\n",
    "\n",
    "We'll take this to be the amount that the policy of one government (for which we are considering the competence) focusses on the other nation (for which we are considering the aggression). The idea here is that a competent government would take care to defend against or appease an aggressive neighbour. Whereas a competent government would probably be too busy trying to make money on trade deals with a peaceful neighbour.\n",
    "\n",
    "These asymettric variables are specified by tuples, so that the names of the islands can be filled in."
   ]
  },
  {
   "cell_type": "code",
   "execution_count": 6,
   "metadata": {},
   "outputs": [],
   "source": [
    "variables['XZ'] = ('Focus on','by')\n",
    "variables['ZX'] = ('Focus of','on')"
   ]
  },
  {
   "cell_type": "markdown",
   "metadata": {},
   "source": [
    "Now we have enough information to initialize the network of nations."
   ]
  },
  {
   "cell_type": "code",
   "execution_count": 7,
   "metadata": {},
   "outputs": [],
   "source": [
    "n = 4\n",
    "network = ParameterGraph(n,labels=labels,variables=variables)"
   ]
  },
  {
   "cell_type": "markdown",
   "metadata": {},
   "source": [
    "The initialization gives the $Z=1$ state for all entities by default. So all nations start off completely competent.\n",
    "\n",
    "We can use `set_state()` to change this. Note that the values given for the variables need not satisfy any particular value for $X^2 + Y^2 + Z^2$, since `set_state()` will automatically renormalize to the required value."
   ]
  },
  {
   "cell_type": "code",
   "execution_count": 8,
   "metadata": {},
   "outputs": [],
   "source": [
    "network.set_state({'Aggression':1,'Competence':0},'Altstetten')\n",
    "network.set_state({'Aggression':0,'Competence':1},'Brugg')\n",
    "network.set_state({'Aggression':0.5,'Competence':0.5},'Frick')\n",
    "network.set_state({'Aggression':-1,'Competence':0},'Rheinfelden')"
   ]
  },
  {
   "cell_type": "markdown",
   "metadata": {},
   "source": [
    "We can inspect the states at any time using `get_state`."
   ]
  },
  {
   "cell_type": "code",
   "execution_count": 9,
   "metadata": {},
   "outputs": [
    {
     "name": "stdout",
     "output_type": "stream",
     "text": [
      "Altstetten\n",
      "    Aggression: 1.0\n",
      "    Competence: -0.00244140625\n",
      "\n",
      "Brugg\n",
      "    Aggression: 0.005777994791666667\n",
      "    Competence: 1.0\n",
      "\n",
      "Frick\n",
      "    Aggression: 0.7069498697916666\n",
      "    Competence: 0.698486328125\n",
      "\n",
      "Rheinfelden\n",
      "    Aggression: -1.0\n",
      "    Competence: -0.0068359375\n",
      "\n"
     ]
    }
   ],
   "source": [
    "def print_states():\n",
    "    for island in labels:\n",
    "        print(island)\n",
    "        state = network.get_state(island)\n",
    "        for variable in state:\n",
    "            print('   ',variable+':',state[variable])\n",
    "        print('')\n",
    "        \n",
    "print_states()"
   ]
  },
  {
   "cell_type": "markdown",
   "metadata": {},
   "source": [
    "We can also look at the relationships."
   ]
  },
  {
   "cell_type": "code",
   "execution_count": 10,
   "metadata": {},
   "outputs": [
    {
     "name": "stdout",
     "output_type": "stream",
     "text": [
      "Altstetten and Brugg\n",
      "    Engagement between citizens: 0.019775390625\n",
      "    Focus on Altstetten by Brugg: 1.0\n",
      "    Focus of Altstetten on Brugg: -0.0048828125\n",
      "    Collaboration between governments: -0.00244140625\n",
      "\n",
      "Altstetten and Frick\n",
      "    Engagement between citizens: 0.713134765625\n",
      "    Focus on Altstetten by Frick: 0.700439453125\n",
      "    Focus of Altstetten on Frick: 0.00390625\n",
      "    Collaboration between governments: -0.000732421875\n",
      "\n",
      "Altstetten and Rheinfelden\n",
      "    Engagement between citizens: -1.0\n",
      "    Focus on Altstetten by Rheinfelden: -0.001953125\n",
      "    Focus of Altstetten on Rheinfelden: 0.012939453125\n",
      "    Collaboration between governments: 0.01611328125\n",
      "\n",
      "Brugg and Frick\n",
      "    Engagement between citizens: 0.00537109375\n",
      "    Focus on Brugg by Frick: 0.010986328125\n",
      "    Focus of Brugg on Frick: 0.708251953125\n",
      "    Collaboration between governments: 0.698486328125\n",
      "\n",
      "Brugg and Rheinfelden\n",
      "    Engagement between citizens: -0.019775390625\n",
      "    Focus on Brugg by Rheinfelden: -0.00927734375\n",
      "    Focus of Brugg on Rheinfelden: -1.0\n",
      "    Collaboration between governments: -0.0068359375\n",
      "\n",
      "Frick and Rheinfelden\n",
      "    Engagement between citizens: -0.713134765625\n",
      "    Focus on Frick by Rheinfelden: 0.005859375\n",
      "    Focus of Frick on Rheinfelden: -0.700439453125\n",
      "    Collaboration between governments: -0.005126953125\n",
      "\n"
     ]
    }
   ],
   "source": [
    "def print_relationships():\n",
    "    for j, island1 in enumerate(labels):\n",
    "        for k, island2 in enumerate(labels):\n",
    "            if k>j:\n",
    "                print(island1,'and',island2)\n",
    "                relationship = network.get_relationship(island1,island2)\n",
    "                for variable in relationship:\n",
    "                    print('   ',variable+':',relationship[variable])\n",
    "                print('')\n",
    "            \n",
    "print_relationships()"
   ]
  },
  {
   "cell_type": "markdown",
   "metadata": {},
   "source": [
    "Here we see that both Brugg and Frick have their eyes on the very aggressive Altstetten. We also see that Brugg and Frick are both very willing to collaborate. The next chapter in the history in these islands is therefore clear: Brugg and Frick are going to try to reduce the threat from Alstetten! Both attack in an attempt to place a competent government in charge of Altstetten.\n",
    "\n",
    "This is done using `set_state()` again. But this time it is a conditional operation, the effectiveness of which depends on how aggressive the attackers are. If they had maximum aggression, the `set_state` command would act exactly as it would when applied normally. For minimal aggression, it would have no effect. Otherwise, the effect is somewhere between the two, and will also cause a change in the relationshop between the two nations."
   ]
  },
  {
   "cell_type": "code",
   "execution_count": 11,
   "metadata": {},
   "outputs": [],
   "source": [
    "network.set_state({'Aggression':0,'Competence':1},'Altstetten',q_if=['Aggression','+','Brugg'])\n",
    "network.set_state({'Aggression':0,'Competence':1},'Altstetten',q_if=['Aggression','+','Frick'])"
   ]
  },
  {
   "cell_type": "markdown",
   "metadata": {},
   "source": [
    "Let's see what the state of the islands are after this war."
   ]
  },
  {
   "cell_type": "code",
   "execution_count": 14,
   "metadata": {},
   "outputs": [
    {
     "name": "stdout",
     "output_type": "stream",
     "text": [
      "Altstetten\n",
      "    Aggression: 0.054280598958333336\n",
      "    Competence: 0.69189453125\n",
      "\n",
      "Brugg\n",
      "    Aggression: 0.009847005208333334\n",
      "    Competence: 0.721923828125\n",
      "\n",
      "Frick\n",
      "    Aggression: 0.712646484375\n",
      "    Competence: 0.643310546875\n",
      "\n",
      "Rheinfelden\n",
      "    Aggression: -1.0\n",
      "    Competence: -0.0029296875\n",
      "\n"
     ]
    }
   ],
   "source": [
    "print_states()"
   ]
  },
  {
   "cell_type": "markdown",
   "metadata": {},
   "source": [
    "Altstetten has indeed become a far less aggressive and more competent nation. Brugg's competence seems to have been reduced a bit as a consequence of the war. Frick seems to be relatively unscathed.\n",
    "\n",
    "Now let's look at the relationships."
   ]
  },
  {
   "cell_type": "code",
   "execution_count": 16,
   "metadata": {},
   "outputs": [
    {
     "name": "stdout",
     "output_type": "stream",
     "text": [
      "Altstetten and Brugg\n",
      "    Engagement between citizens: -0.679931640625\n",
      "    Focus on Altstetten by Brugg: 0.0927734375\n",
      "    Focus of Altstetten on Brugg: 0.068603515625\n",
      "    Collaboration between governments: 0.952392578125\n",
      "\n",
      "Altstetten and Frick\n",
      "    Engagement between citizens: -0.07470703125\n",
      "    Focus on Altstetten by Frick: 0.169677734375\n",
      "    Focus of Altstetten on Frick: 0.53564453125\n",
      "    Collaboration between governments: 0.467041015625\n",
      "\n",
      "Altstetten and Rheinfelden\n",
      "    Engagement between citizens: -0.07421875\n",
      "    Focus on Altstetten by Rheinfelden: -0.015625\n",
      "    Focus of Altstetten on Rheinfelden: -0.68505859375\n",
      "    Collaboration between governments: 0.0009765625\n",
      "\n",
      "Brugg and Frick\n",
      "    Engagement between citizens: -0.003173828125\n",
      "    Focus on Brugg by Frick: 0.02685546875\n",
      "    Focus of Brugg on Frick: 0.503662109375\n",
      "    Collaboration between governments: 0.4677734375\n",
      "\n",
      "Brugg and Rheinfelden\n",
      "    Engagement between citizens: 0.010498046875\n",
      "    Focus on Brugg by Rheinfelden: -0.009521484375\n",
      "    Focus of Brugg on Rheinfelden: -0.70361328125\n",
      "    Collaboration between governments: 0.001708984375\n",
      "\n",
      "Frick and Rheinfelden\n",
      "    Engagement between citizens: -0.7158203125\n",
      "    Focus on Frick by Rheinfelden: -0.01025390625\n",
      "    Focus of Frick on Rheinfelden: -0.654541015625\n",
      "    Collaboration between governments: -0.005126953125\n",
      "\n"
     ]
    }
   ],
   "source": [
    "print_relationships()"
   ]
  },
  {
   "cell_type": "markdown",
   "metadata": {},
   "source": [
    "It seems that the new government of Altstetten wants to be best buddies with Brugg. It also has a fairly strong desire to collaborate with Frick. The old allies Brugg and Frick are also on fairly good terms. There is now peace between these three.\n",
    "\n",
    "Rheinfelden is left out of the party, but seems to have no desire to get involved anyway. As a very non-aggressive nation, the other islands are happy to leave it alone.\n",
    "\n",
    "The world seems pretty stable for now, so that seems to conclude the demo."
   ]
  },
  {
   "cell_type": "code",
   "execution_count": null,
   "metadata": {},
   "outputs": [],
   "source": []
  }
 ],
 "metadata": {
  "kernelspec": {
   "display_name": "Python 3",
   "language": "python",
   "name": "python3"
  },
  "language_info": {
   "codemirror_mode": {
    "name": "ipython",
    "version": 3
   },
   "file_extension": ".py",
   "mimetype": "text/x-python",
   "name": "python",
   "nbconvert_exporter": "python",
   "pygments_lexer": "ipython3",
   "version": "3.7.0"
  }
 },
 "nbformat": 4,
 "nbformat_minor": 2
}
